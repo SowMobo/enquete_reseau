{
 "cells": [
  {
   "cell_type": "code",
   "execution_count": 2,
   "metadata": {},
   "outputs": [],
   "source": [
    "import pandas as pd"
   ]
  },
  {
   "cell_type": "markdown",
   "metadata": {},
   "source": [
    "## Énoncé\n",
    "En tant que data analyst de l'entreprise Rmote, votre rôle est d'aider les salariés/freelances à trouver le lieu idéal pour travailler à distance. C'est votre deuxième mois chez Rmote, après avoir suivi un onboarding qui vous a fait découvrir le fonctionnement interne, on vous assigne maintenant votre première mission !\n",
    "\n",
    "## Mission\n",
    "À la suite d'une enquête de satisfaction dans le but d'améliorer nos services, certains utilisateurs ont fait remonter le besoin d'une connection mobile fiable. C'est nécessaire pour accéder à des documents en déplacement ou même lorsque la connexion Wifi principale tombe. On vous demande donc à partir de données disponibles en open data, d'établir un classement des communes et départements disposant des meilleures couvertures mobiles pour plusieurs opérateurs français. En effet, on doit aussi prendre en compte l'opérateur mobile de nos utilisateurs, car ils ne sont pas tous disposés à en changer.\n",
    "\n",
    "Pour cette mission, vous aurez à disposition 2 fichiers :\n",
    "- la taille de la population par commune ([source](https://www.insee.fr/fr/statistiques/4265429?sommaire=4265511))\n",
    "- des informations sur la connectivité mobile par commune ([source](https://www.data.gouv.fr/fr/datasets/mon-reseau-mobile/))"
   ]
  },
  {
   "cell_type": "markdown",
   "metadata": {},
   "source": [
    "# Exercice\n",
    "## Partie 1 - Répartition de la population (40 minutes)\n",
    "### 1 - Chargement des données\n",
    "<img src='./oc2.png' width=15px /> Téléchargez l'[archive suivante](https://www.insee.fr/fr/statistiques/fichier/4265429/ensemble.zip) puis chargez le fichier `Communes.csv` à l'aide de Pandas. Stockez le résultat du chargement dans la variable `df_pop`.\n",
    "\n",
    "Les colonnes du fichier sont uniquement séparées par des points-virgules.\n",
    "\n",
    "**Petit coup de pouce pour démarrer**, pour chacune des conditions suivantes, trouvez le paramètre de la fonction `read_csv` adapté :\n",
    "- les colonnes sont séparées par des points-virgules\n",
    "- l'encodage à utiliser est *UTF-8*"
   ]
  },
  {
   "cell_type": "code",
   "execution_count": 3,
   "metadata": {},
   "outputs": [],
   "source": [
    "df_pop = pd.read_csv('./data/Communes.csv', sep=';', encoding='UTF-8')"
   ]
  },
  {
   "cell_type": "markdown",
   "metadata": {},
   "source": [
    " "
   ]
  },
  {
   "cell_type": "markdown",
   "metadata": {},
   "source": [
    "<img src='./oc2.png' width=15px /> Pouvez-vous afficher les 5 premières lignes du dataframe pour vérifier que les données sont bien chargées ?"
   ]
  },
  {
   "cell_type": "code",
   "execution_count": 4,
   "metadata": {},
   "outputs": [
    {
     "data": {
      "text/html": [
       "<div>\n",
       "<style scoped>\n",
       "    .dataframe tbody tr th:only-of-type {\n",
       "        vertical-align: middle;\n",
       "    }\n",
       "\n",
       "    .dataframe tbody tr th {\n",
       "        vertical-align: top;\n",
       "    }\n",
       "\n",
       "    .dataframe thead th {\n",
       "        text-align: right;\n",
       "    }\n",
       "</style>\n",
       "<table border=\"1\" class=\"dataframe\">\n",
       "  <thead>\n",
       "    <tr style=\"text-align: right;\">\n",
       "      <th></th>\n",
       "      <th>DEPCOM</th>\n",
       "      <th>COM</th>\n",
       "      <th>PMUN</th>\n",
       "      <th>PCAP</th>\n",
       "      <th>PTOT</th>\n",
       "    </tr>\n",
       "  </thead>\n",
       "  <tbody>\n",
       "    <tr>\n",
       "      <th>0</th>\n",
       "      <td>01001</td>\n",
       "      <td>L' Abergement-Clémenciat</td>\n",
       "      <td>776</td>\n",
       "      <td>18</td>\n",
       "      <td>794</td>\n",
       "    </tr>\n",
       "    <tr>\n",
       "      <th>1</th>\n",
       "      <td>01002</td>\n",
       "      <td>L' Abergement-de-Varey</td>\n",
       "      <td>248</td>\n",
       "      <td>1</td>\n",
       "      <td>249</td>\n",
       "    </tr>\n",
       "    <tr>\n",
       "      <th>2</th>\n",
       "      <td>01004</td>\n",
       "      <td>Ambérieu-en-Bugey</td>\n",
       "      <td>14035</td>\n",
       "      <td>393</td>\n",
       "      <td>14428</td>\n",
       "    </tr>\n",
       "    <tr>\n",
       "      <th>3</th>\n",
       "      <td>01005</td>\n",
       "      <td>Ambérieux-en-Dombes</td>\n",
       "      <td>1689</td>\n",
       "      <td>34</td>\n",
       "      <td>1723</td>\n",
       "    </tr>\n",
       "    <tr>\n",
       "      <th>4</th>\n",
       "      <td>01006</td>\n",
       "      <td>Ambléon</td>\n",
       "      <td>111</td>\n",
       "      <td>6</td>\n",
       "      <td>117</td>\n",
       "    </tr>\n",
       "  </tbody>\n",
       "</table>\n",
       "</div>"
      ],
      "text/plain": [
       "  DEPCOM                       COM   PMUN  PCAP   PTOT\n",
       "0  01001  L' Abergement-Clémenciat    776    18    794\n",
       "1  01002    L' Abergement-de-Varey    248     1    249\n",
       "2  01004         Ambérieu-en-Bugey  14035   393  14428\n",
       "3  01005       Ambérieux-en-Dombes   1689    34   1723\n",
       "4  01006                   Ambléon    111     6    117"
      ]
     },
     "execution_count": 4,
     "metadata": {},
     "output_type": "execute_result"
    }
   ],
   "source": [
    "df_pop.head(5)"
   ]
  },
  {
   "cell_type": "markdown",
   "metadata": {},
   "source": [
    " "
   ]
  },
  {
   "cell_type": "markdown",
   "metadata": {},
   "source": [
    "<img src='./oc2.png' width=15px /> À l'aide de la fonction `loc`, sélectionnez uniquement les colonnes `DEPCOM`, `COM` et `PTOT`."
   ]
  },
  {
   "cell_type": "code",
   "execution_count": 5,
   "metadata": {},
   "outputs": [
    {
     "data": {
      "text/html": [
       "<div>\n",
       "<style scoped>\n",
       "    .dataframe tbody tr th:only-of-type {\n",
       "        vertical-align: middle;\n",
       "    }\n",
       "\n",
       "    .dataframe tbody tr th {\n",
       "        vertical-align: top;\n",
       "    }\n",
       "\n",
       "    .dataframe thead th {\n",
       "        text-align: right;\n",
       "    }\n",
       "</style>\n",
       "<table border=\"1\" class=\"dataframe\">\n",
       "  <thead>\n",
       "    <tr style=\"text-align: right;\">\n",
       "      <th></th>\n",
       "      <th>DEPCOM</th>\n",
       "      <th>COM</th>\n",
       "      <th>PTOT</th>\n",
       "    </tr>\n",
       "  </thead>\n",
       "  <tbody>\n",
       "    <tr>\n",
       "      <th>0</th>\n",
       "      <td>01001</td>\n",
       "      <td>L' Abergement-Clémenciat</td>\n",
       "      <td>794</td>\n",
       "    </tr>\n",
       "    <tr>\n",
       "      <th>1</th>\n",
       "      <td>01002</td>\n",
       "      <td>L' Abergement-de-Varey</td>\n",
       "      <td>249</td>\n",
       "    </tr>\n",
       "    <tr>\n",
       "      <th>2</th>\n",
       "      <td>01004</td>\n",
       "      <td>Ambérieu-en-Bugey</td>\n",
       "      <td>14428</td>\n",
       "    </tr>\n",
       "    <tr>\n",
       "      <th>3</th>\n",
       "      <td>01005</td>\n",
       "      <td>Ambérieux-en-Dombes</td>\n",
       "      <td>1723</td>\n",
       "    </tr>\n",
       "    <tr>\n",
       "      <th>4</th>\n",
       "      <td>01006</td>\n",
       "      <td>Ambléon</td>\n",
       "      <td>117</td>\n",
       "    </tr>\n",
       "    <tr>\n",
       "      <th>...</th>\n",
       "      <td>...</td>\n",
       "      <td>...</td>\n",
       "      <td>...</td>\n",
       "    </tr>\n",
       "    <tr>\n",
       "      <th>34990</th>\n",
       "      <td>97419</td>\n",
       "      <td>Sainte-Rose</td>\n",
       "      <td>6497</td>\n",
       "    </tr>\n",
       "    <tr>\n",
       "      <th>34991</th>\n",
       "      <td>97420</td>\n",
       "      <td>Sainte-Suzanne</td>\n",
       "      <td>23704</td>\n",
       "    </tr>\n",
       "    <tr>\n",
       "      <th>34992</th>\n",
       "      <td>97421</td>\n",
       "      <td>Salazie</td>\n",
       "      <td>7387</td>\n",
       "    </tr>\n",
       "    <tr>\n",
       "      <th>34993</th>\n",
       "      <td>97422</td>\n",
       "      <td>Le Tampon</td>\n",
       "      <td>79705</td>\n",
       "    </tr>\n",
       "    <tr>\n",
       "      <th>34994</th>\n",
       "      <td>97423</td>\n",
       "      <td>Les Trois-Bassins</td>\n",
       "      <td>7234</td>\n",
       "    </tr>\n",
       "  </tbody>\n",
       "</table>\n",
       "<p>34995 rows × 3 columns</p>\n",
       "</div>"
      ],
      "text/plain": [
       "      DEPCOM                       COM   PTOT\n",
       "0      01001  L' Abergement-Clémenciat    794\n",
       "1      01002    L' Abergement-de-Varey    249\n",
       "2      01004         Ambérieu-en-Bugey  14428\n",
       "3      01005       Ambérieux-en-Dombes   1723\n",
       "4      01006                   Ambléon    117\n",
       "...      ...                       ...    ...\n",
       "34990  97419               Sainte-Rose   6497\n",
       "34991  97420            Sainte-Suzanne  23704\n",
       "34992  97421                   Salazie   7387\n",
       "34993  97422                 Le Tampon  79705\n",
       "34994  97423         Les Trois-Bassins   7234\n",
       "\n",
       "[34995 rows x 3 columns]"
      ]
     },
     "execution_count": 5,
     "metadata": {},
     "output_type": "execute_result"
    }
   ],
   "source": [
    "df_pop.loc[:, ['DEPCOM', 'COM', 'PTOT']]"
   ]
  },
  {
   "cell_type": "markdown",
   "metadata": {},
   "source": [
    "### Description des colonnes\n",
    "**DEPCOM** : numéro de commune\n",
    "\n",
    "**COM** : nom de la commune\n",
    "\n",
    "**PMUN** : la population municipale comprend les personnes ayant leur résidence habituelle sur le territoire de la commune, dans un logement ou une communauté, les personnes détenues dans les établissements pénitentiaires de la commune, les personnes sans abri recensées sur le territoire de la commune et les personnes résidant habituellement dans une habitation mobile recensées sur le territoire de la commune.\n",
    "\n",
    "**PCAP** : La population comptée à part comprend certaines personnes dont la résidence habituelle est dans une autre commune mais qui ont conservé une résidence sur le territoire de la commune.\n",
    "\n",
    "**PTOT** : la population totale est la somme de la population municipale et de la population comptée à part."
   ]
  },
  {
   "cell_type": "markdown",
   "metadata": {},
   "source": [
    "### 2 - Le dataframe\n",
    "\n",
    "<img src='./oc2.png' width=15px /> Quel est le type de la variable `df_pop` ?"
   ]
  },
  {
   "cell_type": "code",
   "execution_count": 6,
   "metadata": {},
   "outputs": [
    {
     "data": {
      "text/plain": [
       "pandas.core.frame.DataFrame"
      ]
     },
     "execution_count": 6,
     "metadata": {},
     "output_type": "execute_result"
    }
   ],
   "source": [
    "type(df_pop)"
   ]
  },
  {
   "cell_type": "markdown",
   "metadata": {},
   "source": [
    " "
   ]
  },
  {
   "cell_type": "markdown",
   "metadata": {},
   "source": [
    "<img src='./oc2.png' width=15px /> Combien de lignes et colonnes sont contenues dans `df_pop` ?"
   ]
  },
  {
   "cell_type": "code",
   "execution_count": 7,
   "metadata": {},
   "outputs": [
    {
     "data": {
      "text/plain": [
       "(34995, 5)"
      ]
     },
     "execution_count": 7,
     "metadata": {},
     "output_type": "execute_result"
    }
   ],
   "source": [
    "df_pop.shape"
   ]
  },
  {
   "cell_type": "markdown",
   "metadata": {},
   "source": [
    " "
   ]
  },
  {
   "cell_type": "markdown",
   "metadata": {},
   "source": [
    "<img src='./oc2.png' width=15px /> Affichez le type des colonnes"
   ]
  },
  {
   "cell_type": "code",
   "execution_count": 8,
   "metadata": {},
   "outputs": [
    {
     "data": {
      "text/plain": [
       "DEPCOM    object\n",
       "COM       object\n",
       "PMUN       int64\n",
       "PCAP       int64\n",
       "PTOT       int64\n",
       "dtype: object"
      ]
     },
     "execution_count": 8,
     "metadata": {},
     "output_type": "execute_result"
    }
   ],
   "source": [
    "df_pop.dtypes"
   ]
  },
  {
   "cell_type": "markdown",
   "metadata": {},
   "source": [
    " "
   ]
  },
  {
   "cell_type": "markdown",
   "metadata": {},
   "source": [
    "### 3 - Qualité des données\n",
    "\n",
    "Un jeu de données contient parfois des [valeurs manquantes](https://fr.wikipedia.org/wiki/Donn%C3%A9es_manquantes), ce sont des valeurs qui ne sont pas renseignées, cela pour plusieurs raisons :\n",
    "- volontairement (ex: la valeur n'existe pas)\n",
    "- involontairement (ex: la valeur n'est pas lisible)\n",
    "- etc"
   ]
  },
  {
   "cell_type": "markdown",
   "metadata": {},
   "source": [
    "<img src='./oc2.png' width=15px /> Existe-t-il des valeurs manquantes dans ce jeu de données ?"
   ]
  },
  {
   "cell_type": "code",
   "execution_count": 9,
   "metadata": {},
   "outputs": [
    {
     "data": {
      "text/plain": [
       "DEPCOM    0\n",
       "COM       0\n",
       "PMUN      0\n",
       "PCAP      0\n",
       "PTOT      0\n",
       "dtype: int64"
      ]
     },
     "execution_count": 9,
     "metadata": {},
     "output_type": "execute_result"
    }
   ],
   "source": [
    "df_pop.isna().sum()"
   ]
  },
  {
   "cell_type": "markdown",
   "metadata": {},
   "source": [
    " "
   ]
  },
  {
   "cell_type": "markdown",
   "metadata": {},
   "source": [
    "<img src='./oc2.png' width=15px /> Existe-t-il des duplicatas ?"
   ]
  },
  {
   "cell_type": "code",
   "execution_count": 10,
   "metadata": {},
   "outputs": [
    {
     "data": {
      "text/plain": [
       "0"
      ]
     },
     "execution_count": 10,
     "metadata": {},
     "output_type": "execute_result"
    }
   ],
   "source": [
    "df_pop.duplicated(subset=['DEPCOM']).sum()"
   ]
  },
  {
   "cell_type": "markdown",
   "metadata": {},
   "source": [
    "### 4 - Analyse des données\n",
    "\n",
    "<img src='./oc2.png' width=15px /> Quel est le top 15 des communes les plus peuplées ?"
   ]
  },
  {
   "cell_type": "code",
   "execution_count": 11,
   "metadata": {},
   "outputs": [
    {
     "data": {
      "text/html": [
       "<div>\n",
       "<style scoped>\n",
       "    .dataframe tbody tr th:only-of-type {\n",
       "        vertical-align: middle;\n",
       "    }\n",
       "\n",
       "    .dataframe tbody tr th {\n",
       "        vertical-align: top;\n",
       "    }\n",
       "\n",
       "    .dataframe thead th {\n",
       "        text-align: right;\n",
       "    }\n",
       "</style>\n",
       "<table border=\"1\" class=\"dataframe\">\n",
       "  <thead>\n",
       "    <tr style=\"text-align: right;\">\n",
       "      <th></th>\n",
       "      <th>DEPCOM</th>\n",
       "      <th>COM</th>\n",
       "      <th>PMUN</th>\n",
       "      <th>PCAP</th>\n",
       "      <th>PTOT</th>\n",
       "    </tr>\n",
       "  </thead>\n",
       "  <tbody>\n",
       "    <tr>\n",
       "      <th>11831</th>\n",
       "      <td>31555</td>\n",
       "      <td>Toulouse</td>\n",
       "      <td>479553</td>\n",
       "      <td>5256</td>\n",
       "      <td>484809</td>\n",
       "    </tr>\n",
       "    <tr>\n",
       "      <th>1958</th>\n",
       "      <td>06088</td>\n",
       "      <td>Nice</td>\n",
       "      <td>340017</td>\n",
       "      <td>2962</td>\n",
       "      <td>342979</td>\n",
       "    </tr>\n",
       "    <tr>\n",
       "      <th>16332</th>\n",
       "      <td>44109</td>\n",
       "      <td>Nantes</td>\n",
       "      <td>309346</td>\n",
       "      <td>5157</td>\n",
       "      <td>314503</td>\n",
       "    </tr>\n",
       "    <tr>\n",
       "      <th>13035</th>\n",
       "      <td>34172</td>\n",
       "      <td>Montpellier</td>\n",
       "      <td>285121</td>\n",
       "      <td>3479</td>\n",
       "      <td>288600</td>\n",
       "    </tr>\n",
       "    <tr>\n",
       "      <th>26571</th>\n",
       "      <td>67482</td>\n",
       "      <td>Strasbourg</td>\n",
       "      <td>280966</td>\n",
       "      <td>2779</td>\n",
       "      <td>283745</td>\n",
       "    </tr>\n",
       "    <tr>\n",
       "      <th>12386</th>\n",
       "      <td>33063</td>\n",
       "      <td>Bordeaux</td>\n",
       "      <td>254436</td>\n",
       "      <td>3368</td>\n",
       "      <td>257804</td>\n",
       "    </tr>\n",
       "    <tr>\n",
       "      <th>29311</th>\n",
       "      <td>75115</td>\n",
       "      <td>Paris 15e Arrondissement</td>\n",
       "      <td>233392</td>\n",
       "      <td>1786</td>\n",
       "      <td>235178</td>\n",
       "    </tr>\n",
       "    <tr>\n",
       "      <th>22165</th>\n",
       "      <td>59350</td>\n",
       "      <td>Lille</td>\n",
       "      <td>232787</td>\n",
       "      <td>2055</td>\n",
       "      <td>234842</td>\n",
       "    </tr>\n",
       "    <tr>\n",
       "      <th>13425</th>\n",
       "      <td>35238</td>\n",
       "      <td>Rennes</td>\n",
       "      <td>216815</td>\n",
       "      <td>4110</td>\n",
       "      <td>220925</td>\n",
       "    </tr>\n",
       "    <tr>\n",
       "      <th>29316</th>\n",
       "      <td>75120</td>\n",
       "      <td>Paris 20e Arrondissement</td>\n",
       "      <td>195814</td>\n",
       "      <td>925</td>\n",
       "      <td>196739</td>\n",
       "    </tr>\n",
       "    <tr>\n",
       "      <th>29314</th>\n",
       "      <td>75118</td>\n",
       "      <td>Paris 18e Arrondissement</td>\n",
       "      <td>195233</td>\n",
       "      <td>898</td>\n",
       "      <td>196131</td>\n",
       "    </tr>\n",
       "    <tr>\n",
       "      <th>29315</th>\n",
       "      <td>75119</td>\n",
       "      <td>Paris 19e Arrondissement</td>\n",
       "      <td>187015</td>\n",
       "      <td>1051</td>\n",
       "      <td>188066</td>\n",
       "    </tr>\n",
       "    <tr>\n",
       "      <th>18585</th>\n",
       "      <td>51454</td>\n",
       "      <td>Reims</td>\n",
       "      <td>182460</td>\n",
       "      <td>3116</td>\n",
       "      <td>185576</td>\n",
       "    </tr>\n",
       "    <tr>\n",
       "      <th>29309</th>\n",
       "      <td>75113</td>\n",
       "      <td>Paris 13e Arrondissement</td>\n",
       "      <td>182099</td>\n",
       "      <td>1300</td>\n",
       "      <td>183399</td>\n",
       "    </tr>\n",
       "    <tr>\n",
       "      <th>15856</th>\n",
       "      <td>42218</td>\n",
       "      <td>Saint-Étienne</td>\n",
       "      <td>172565</td>\n",
       "      <td>1955</td>\n",
       "      <td>174520</td>\n",
       "    </tr>\n",
       "  </tbody>\n",
       "</table>\n",
       "</div>"
      ],
      "text/plain": [
       "      DEPCOM                       COM    PMUN  PCAP    PTOT\n",
       "11831  31555                  Toulouse  479553  5256  484809\n",
       "1958   06088                      Nice  340017  2962  342979\n",
       "16332  44109                    Nantes  309346  5157  314503\n",
       "13035  34172               Montpellier  285121  3479  288600\n",
       "26571  67482                Strasbourg  280966  2779  283745\n",
       "12386  33063                  Bordeaux  254436  3368  257804\n",
       "29311  75115  Paris 15e Arrondissement  233392  1786  235178\n",
       "22165  59350                     Lille  232787  2055  234842\n",
       "13425  35238                    Rennes  216815  4110  220925\n",
       "29316  75120  Paris 20e Arrondissement  195814   925  196739\n",
       "29314  75118  Paris 18e Arrondissement  195233   898  196131\n",
       "29315  75119  Paris 19e Arrondissement  187015  1051  188066\n",
       "18585  51454                     Reims  182460  3116  185576\n",
       "29309  75113  Paris 13e Arrondissement  182099  1300  183399\n",
       "15856  42218             Saint-Étienne  172565  1955  174520"
      ]
     },
     "execution_count": 11,
     "metadata": {},
     "output_type": "execute_result"
    }
   ],
   "source": [
    "df_pop.sort_values('PTOT', ascending=False).head(15)"
   ]
  },
  {
   "cell_type": "markdown",
   "metadata": {},
   "source": [
    " \n"
   ]
  },
  {
   "cell_type": "markdown",
   "metadata": {},
   "source": [
    "<img src='./oc2.png' width=15px /> Affichez les statistiques élémentaires (min, max, moyenne). Quel est la taille de la plus petite population ?"
   ]
  },
  {
   "cell_type": "code",
   "execution_count": 12,
   "metadata": {},
   "outputs": [
    {
     "data": {
      "text/plain": [
       "count     34995.000000\n",
       "mean       1936.307815\n",
       "std        8696.358429\n",
       "min           0.000000\n",
       "25%         203.000000\n",
       "50%         468.000000\n",
       "75%        1184.000000\n",
       "max      484809.000000\n",
       "Name: PTOT, dtype: float64"
      ]
     },
     "execution_count": 12,
     "metadata": {},
     "output_type": "execute_result"
    }
   ],
   "source": [
    "df_pop['PTOT'].describe()"
   ]
  },
  {
   "cell_type": "code",
   "execution_count": 13,
   "metadata": {},
   "outputs": [
    {
     "data": {
      "text/plain": [
       "468.0"
      ]
     },
     "execution_count": 13,
     "metadata": {},
     "output_type": "execute_result"
    }
   ],
   "source": []
  },
  {
   "cell_type": "markdown",
   "metadata": {},
   "source": [
    " "
   ]
  },
  {
   "cell_type": "markdown",
   "metadata": {},
   "source": [
    "<img src='./oc2.png' width=15px /> Pensez-vous que la distribution des données est très homogène autour de la valeur médiane, ou au contraire très variable ? Pour répondre à cette question vous pouvez faire un diagramme en boîte."
   ]
  },
  {
   "cell_type": "code",
   "execution_count": 15,
   "metadata": {},
   "outputs": [
    {
     "ename": "ImportError",
     "evalue": "matplotlib is required for plotting when the default backend \"matplotlib\" is selected.",
     "output_type": "error",
     "traceback": [
      "\u001b[0;31m---------------------------------------------------------------------------\u001b[0m",
      "\u001b[0;31mImportError\u001b[0m                               Traceback (most recent call last)",
      "\u001b[0;32m/var/folders/4z/1vvfhf7x2xb903xwgcm9x3cc0000gn/T/ipykernel_4331/4050192505.py\u001b[0m in \u001b[0;36m<module>\u001b[0;34m\u001b[0m\n\u001b[0;32m----> 1\u001b[0;31m \u001b[0mdf_pop\u001b[0m\u001b[0;34m.\u001b[0m\u001b[0mboxplot\u001b[0m\u001b[0;34m(\u001b[0m\u001b[0;34m'PTOT'\u001b[0m\u001b[0;34m,\u001b[0m \u001b[0mshowfliers\u001b[0m\u001b[0;34m=\u001b[0m\u001b[0;32mFalse\u001b[0m\u001b[0;34m)\u001b[0m\u001b[0;34m;\u001b[0m\u001b[0;34m\u001b[0m\u001b[0;34m\u001b[0m\u001b[0m\n\u001b[0m",
      "\u001b[0;32m/opt/miniconda3/envs/eqtMed/lib/python3.9/site-packages/pandas/plotting/_core.py\u001b[0m in \u001b[0;36mboxplot_frame\u001b[0;34m(self, column, by, ax, fontsize, rot, grid, figsize, layout, return_type, backend, **kwargs)\u001b[0m\n\u001b[1;32m    508\u001b[0m     \u001b[0;34m**\u001b[0m\u001b[0mkwargs\u001b[0m\u001b[0;34m,\u001b[0m\u001b[0;34m\u001b[0m\u001b[0;34m\u001b[0m\u001b[0m\n\u001b[1;32m    509\u001b[0m ):\n\u001b[0;32m--> 510\u001b[0;31m     \u001b[0mplot_backend\u001b[0m \u001b[0;34m=\u001b[0m \u001b[0m_get_plot_backend\u001b[0m\u001b[0;34m(\u001b[0m\u001b[0mbackend\u001b[0m\u001b[0;34m)\u001b[0m\u001b[0;34m\u001b[0m\u001b[0;34m\u001b[0m\u001b[0m\n\u001b[0m\u001b[1;32m    511\u001b[0m     return plot_backend.boxplot_frame(\n\u001b[1;32m    512\u001b[0m         \u001b[0mself\u001b[0m\u001b[0;34m,\u001b[0m\u001b[0;34m\u001b[0m\u001b[0;34m\u001b[0m\u001b[0m\n",
      "\u001b[0;32m/opt/miniconda3/envs/eqtMed/lib/python3.9/site-packages/pandas/plotting/_core.py\u001b[0m in \u001b[0;36m_get_plot_backend\u001b[0;34m(backend)\u001b[0m\n\u001b[1;32m   1812\u001b[0m         \u001b[0;32mreturn\u001b[0m \u001b[0m_backends\u001b[0m\u001b[0;34m[\u001b[0m\u001b[0mbackend\u001b[0m\u001b[0;34m]\u001b[0m\u001b[0;34m\u001b[0m\u001b[0;34m\u001b[0m\u001b[0m\n\u001b[1;32m   1813\u001b[0m \u001b[0;34m\u001b[0m\u001b[0m\n\u001b[0;32m-> 1814\u001b[0;31m     \u001b[0mmodule\u001b[0m \u001b[0;34m=\u001b[0m \u001b[0m_load_backend\u001b[0m\u001b[0;34m(\u001b[0m\u001b[0mbackend\u001b[0m\u001b[0;34m)\u001b[0m\u001b[0;34m\u001b[0m\u001b[0;34m\u001b[0m\u001b[0m\n\u001b[0m\u001b[1;32m   1815\u001b[0m     \u001b[0m_backends\u001b[0m\u001b[0;34m[\u001b[0m\u001b[0mbackend\u001b[0m\u001b[0;34m]\u001b[0m \u001b[0;34m=\u001b[0m \u001b[0mmodule\u001b[0m\u001b[0;34m\u001b[0m\u001b[0;34m\u001b[0m\u001b[0m\n\u001b[1;32m   1816\u001b[0m     \u001b[0;32mreturn\u001b[0m \u001b[0mmodule\u001b[0m\u001b[0;34m\u001b[0m\u001b[0;34m\u001b[0m\u001b[0m\n",
      "\u001b[0;32m/opt/miniconda3/envs/eqtMed/lib/python3.9/site-packages/pandas/plotting/_core.py\u001b[0m in \u001b[0;36m_load_backend\u001b[0;34m(backend)\u001b[0m\n\u001b[1;32m   1752\u001b[0m             \u001b[0mmodule\u001b[0m \u001b[0;34m=\u001b[0m \u001b[0mimportlib\u001b[0m\u001b[0;34m.\u001b[0m\u001b[0mimport_module\u001b[0m\u001b[0;34m(\u001b[0m\u001b[0;34m\"pandas.plotting._matplotlib\"\u001b[0m\u001b[0;34m)\u001b[0m\u001b[0;34m\u001b[0m\u001b[0;34m\u001b[0m\u001b[0m\n\u001b[1;32m   1753\u001b[0m         \u001b[0;32mexcept\u001b[0m \u001b[0mImportError\u001b[0m\u001b[0;34m:\u001b[0m\u001b[0;34m\u001b[0m\u001b[0;34m\u001b[0m\u001b[0m\n\u001b[0;32m-> 1754\u001b[0;31m             raise ImportError(\n\u001b[0m\u001b[1;32m   1755\u001b[0m                 \u001b[0;34m\"matplotlib is required for plotting when the \"\u001b[0m\u001b[0;34m\u001b[0m\u001b[0;34m\u001b[0m\u001b[0m\n\u001b[1;32m   1756\u001b[0m                 \u001b[0;34m'default backend \"matplotlib\" is selected.'\u001b[0m\u001b[0;34m\u001b[0m\u001b[0;34m\u001b[0m\u001b[0m\n",
      "\u001b[0;31mImportError\u001b[0m: matplotlib is required for plotting when the default backend \"matplotlib\" is selected."
     ]
    }
   ],
   "source": [
    "df_pop.boxplot('PTOT', showfliers=False);"
   ]
  },
  {
   "cell_type": "markdown",
   "metadata": {},
   "source": [
    " \n",
    " "
   ]
  },
  {
   "cell_type": "markdown",
   "metadata": {},
   "source": [
    "<img src='./oc2.png' width=15px /> Quelles sont les communes n'ayant aucun habitant ?"
   ]
  },
  {
   "cell_type": "code",
   "execution_count": null,
   "metadata": {},
   "outputs": [
    {
     "data": {
      "text/html": [
       "<div>\n",
       "<style scoped>\n",
       "    .dataframe tbody tr th:only-of-type {\n",
       "        vertical-align: middle;\n",
       "    }\n",
       "\n",
       "    .dataframe tbody tr th {\n",
       "        vertical-align: top;\n",
       "    }\n",
       "\n",
       "    .dataframe thead th {\n",
       "        text-align: right;\n",
       "    }\n",
       "</style>\n",
       "<table border=\"1\" class=\"dataframe\">\n",
       "  <thead>\n",
       "    <tr style=\"text-align: right;\">\n",
       "      <th></th>\n",
       "      <th>DEPCOM</th>\n",
       "      <th>COM</th>\n",
       "      <th>PMUN</th>\n",
       "      <th>PCAP</th>\n",
       "      <th>PTOT</th>\n",
       "    </tr>\n",
       "  </thead>\n",
       "  <tbody>\n",
       "    <tr>\n",
       "      <th>20074</th>\n",
       "      <td>55039</td>\n",
       "      <td>Beaumont-en-Verdunois</td>\n",
       "      <td>0</td>\n",
       "      <td>0</td>\n",
       "      <td>0</td>\n",
       "    </tr>\n",
       "    <tr>\n",
       "      <th>20085</th>\n",
       "      <td>55050</td>\n",
       "      <td>Bezonvaux</td>\n",
       "      <td>0</td>\n",
       "      <td>0</td>\n",
       "      <td>0</td>\n",
       "    </tr>\n",
       "    <tr>\n",
       "      <th>20161</th>\n",
       "      <td>55139</td>\n",
       "      <td>Cumières-le-Mort-Homme</td>\n",
       "      <td>0</td>\n",
       "      <td>0</td>\n",
       "      <td>0</td>\n",
       "    </tr>\n",
       "    <tr>\n",
       "      <th>20205</th>\n",
       "      <td>55189</td>\n",
       "      <td>Fleury-devant-Douaumont</td>\n",
       "      <td>0</td>\n",
       "      <td>0</td>\n",
       "      <td>0</td>\n",
       "    </tr>\n",
       "    <tr>\n",
       "      <th>20243</th>\n",
       "      <td>55239</td>\n",
       "      <td>Haumont-près-Samogneux</td>\n",
       "      <td>0</td>\n",
       "      <td>0</td>\n",
       "      <td>0</td>\n",
       "    </tr>\n",
       "    <tr>\n",
       "      <th>20301</th>\n",
       "      <td>55307</td>\n",
       "      <td>Louvemont-Côte-du-Poivre</td>\n",
       "      <td>0</td>\n",
       "      <td>0</td>\n",
       "      <td>0</td>\n",
       "    </tr>\n",
       "  </tbody>\n",
       "</table>\n",
       "</div>"
      ],
      "text/plain": [
       "      DEPCOM                       COM  PMUN  PCAP  PTOT\n",
       "20074  55039     Beaumont-en-Verdunois     0     0     0\n",
       "20085  55050                 Bezonvaux     0     0     0\n",
       "20161  55139    Cumières-le-Mort-Homme     0     0     0\n",
       "20205  55189   Fleury-devant-Douaumont     0     0     0\n",
       "20243  55239    Haumont-près-Samogneux     0     0     0\n",
       "20301  55307  Louvemont-Côte-du-Poivre     0     0     0"
      ]
     },
     "execution_count": 13,
     "metadata": {},
     "output_type": "execute_result"
    }
   ],
   "source": [
    "df_pop[df_pop['PTOT'] == 0]"
   ]
  },
  {
   "cell_type": "markdown",
   "metadata": {},
   "source": [
    "Toutes les communes n'ayant aucun habitant sont dans le département 55 !"
   ]
  },
  {
   "cell_type": "markdown",
   "metadata": {},
   "source": [
    " "
   ]
  },
  {
   "cell_type": "markdown",
   "metadata": {},
   "source": [
    "<img src='./oc2.png' width=15px /> Quel est le total de la population ?"
   ]
  },
  {
   "cell_type": "code",
   "execution_count": null,
   "metadata": {},
   "outputs": [
    {
     "data": {
      "text/plain": [
       "67761092"
      ]
     },
     "execution_count": 14,
     "metadata": {},
     "output_type": "execute_result"
    }
   ],
   "source": [
    "df_pop['PTOT'].sum()"
   ]
  },
  {
   "cell_type": "markdown",
   "metadata": {},
   "source": [
    " "
   ]
  },
  {
   "cell_type": "markdown",
   "metadata": {},
   "source": [
    "<img src='./oc2.png' width=15px /> Pour simplifier le travail, on exploitera uniquement `PTOT` comme indicateur de la taille de la population. Supprimez donc `PMUN` et `PCAP`."
   ]
  },
  {
   "cell_type": "code",
   "execution_count": null,
   "metadata": {},
   "outputs": [],
   "source": [
    "df_pop = df_pop.drop(['PMUN', 'PCAP'], axis=1)"
   ]
  },
  {
   "cell_type": "markdown",
   "metadata": {},
   "source": [
    " "
   ]
  },
  {
   "cell_type": "markdown",
   "metadata": {},
   "source": [
    "<img src='./oc2.png' width=15px /> Renommez la colonne `PTOT` en `population`, `DEPCOM` en `code_dep`, `COM` en `nom_dep`."
   ]
  },
  {
   "cell_type": "code",
   "execution_count": null,
   "metadata": {},
   "outputs": [],
   "source": [
    "df_pop = df_pop.rename({'PTOT':'population',\n",
    "                        'DEPCOM': 'code_dep',\n",
    "                        'COM': 'nom_dep'}, axis=1)"
   ]
  },
  {
   "cell_type": "markdown",
   "metadata": {},
   "source": [
    " "
   ]
  },
  {
   "cell_type": "markdown",
   "metadata": {},
   "source": [
    "<img src='./oc2.png' width=15px /> Nous allons utiliser ce fichier de données dans la suite du projet, seulement un problème persiste, les villes avec des arrondissements doivent être fusionnées, pour ne plus prendre en considération ces derniers. Première étape, lister les communes dont le nom termine par `Arrondissement`. ([aide](https://pandas.pydata.org/pandas-docs/stable/reference/api/pandas.Series.str.endswith.html))"
   ]
  },
  {
   "cell_type": "code",
   "execution_count": null,
   "metadata": {},
   "outputs": [
    {
     "data": {
      "text/html": [
       "<div>\n",
       "<style scoped>\n",
       "    .dataframe tbody tr th:only-of-type {\n",
       "        vertical-align: middle;\n",
       "    }\n",
       "\n",
       "    .dataframe tbody tr th {\n",
       "        vertical-align: top;\n",
       "    }\n",
       "\n",
       "    .dataframe thead th {\n",
       "        text-align: right;\n",
       "    }\n",
       "</style>\n",
       "<table border=\"1\" class=\"dataframe\">\n",
       "  <thead>\n",
       "    <tr style=\"text-align: right;\">\n",
       "      <th></th>\n",
       "      <th>code_dep</th>\n",
       "      <th>nom_dep</th>\n",
       "      <th>population</th>\n",
       "    </tr>\n",
       "  </thead>\n",
       "  <tbody>\n",
       "    <tr>\n",
       "      <th>4349</th>\n",
       "      <td>13201</td>\n",
       "      <td>Marseille 1er Arrondissement</td>\n",
       "      <td>39967</td>\n",
       "    </tr>\n",
       "    <tr>\n",
       "      <th>4350</th>\n",
       "      <td>13202</td>\n",
       "      <td>Marseille 2e Arrondissement</td>\n",
       "      <td>24873</td>\n",
       "    </tr>\n",
       "    <tr>\n",
       "      <th>4351</th>\n",
       "      <td>13203</td>\n",
       "      <td>Marseille 3e Arrondissement</td>\n",
       "      <td>48990</td>\n",
       "    </tr>\n",
       "    <tr>\n",
       "      <th>4352</th>\n",
       "      <td>13204</td>\n",
       "      <td>Marseille 4e Arrondissement</td>\n",
       "      <td>48791</td>\n",
       "    </tr>\n",
       "    <tr>\n",
       "      <th>4353</th>\n",
       "      <td>13205</td>\n",
       "      <td>Marseille 5e Arrondissement</td>\n",
       "      <td>46499</td>\n",
       "    </tr>\n",
       "  </tbody>\n",
       "</table>\n",
       "</div>"
      ],
      "text/plain": [
       "     code_dep                       nom_dep  population\n",
       "4349    13201  Marseille 1er Arrondissement       39967\n",
       "4350    13202   Marseille 2e Arrondissement       24873\n",
       "4351    13203   Marseille 3e Arrondissement       48990\n",
       "4352    13204   Marseille 4e Arrondissement       48791\n",
       "4353    13205   Marseille 5e Arrondissement       46499"
      ]
     },
     "execution_count": 17,
     "metadata": {},
     "output_type": "execute_result"
    }
   ],
   "source": [
    "arrondissement_filter = df_pop['nom_dep'].str.endswith('Arrondissement')\n",
    "df_pop[arrondissement_filter].head()"
   ]
  },
  {
   "cell_type": "markdown",
   "metadata": {},
   "source": [
    " "
   ]
  },
  {
   "cell_type": "markdown",
   "metadata": {},
   "source": [
    "<img src='./oc2.png' width=15px /> Calculez la population totale de Marseille, de même pour Lyon et Paris."
   ]
  },
  {
   "cell_type": "code",
   "execution_count": null,
   "metadata": {},
   "outputs": [],
   "source": [
    "pop_paris = df_pop[(arrondissement_filter) & (df_pop['nom_dep'].str.startswith('Paris'))]['population'].sum()\n",
    "pop_marseille = df_pop[(arrondissement_filter) & (df_pop['nom_dep'].str.startswith('Marseille'))]['population'].sum()\n",
    "pop_lyon = df_pop[(arrondissement_filter) & (df_pop['nom_dep'].str.startswith('Lyon'))]['population'].sum()"
   ]
  },
  {
   "cell_type": "markdown",
   "metadata": {},
   "source": [
    " "
   ]
  },
  {
   "cell_type": "markdown",
   "metadata": {},
   "source": [
    "<img src='./oc2.png' width=15px /> Supprimez les communes dont le nom termine par `Arrondissement`."
   ]
  },
  {
   "cell_type": "code",
   "execution_count": null,
   "metadata": {},
   "outputs": [],
   "source": [
    "df_pop = df_pop.drop(df_pop[df_pop['nom_dep'].str.endswith('Arrondissement')].index, axis=0)"
   ]
  },
  {
   "cell_type": "markdown",
   "metadata": {},
   "source": [
    " "
   ]
  },
  {
   "cell_type": "markdown",
   "metadata": {},
   "source": [
    "<img src='./oc2.png' width=15px /> Ajouter les communes fusionnées dans le dataframe (3 lignes). ([aide](https://pandas.pydata.org/pandas-docs/stable/reference/api/pandas.DataFrame.append.html))"
   ]
  },
  {
   "cell_type": "code",
   "execution_count": 16,
   "metadata": {},
   "outputs": [
    {
     "ename": "NameError",
     "evalue": "name 'pop_paris' is not defined",
     "output_type": "error",
     "traceback": [
      "\u001b[0;31m---------------------------------------------------------------------------\u001b[0m",
      "\u001b[0;31mNameError\u001b[0m                                 Traceback (most recent call last)",
      "\u001b[0;32m/var/folders/4z/1vvfhf7x2xb903xwgcm9x3cc0000gn/T/ipykernel_4331/3311997111.py\u001b[0m in \u001b[0;36m<module>\u001b[0;34m\u001b[0m\n\u001b[0;32m----> 1\u001b[0;31m df_pop = df_pop.append(pd.DataFrame([['75056', 'Paris', pop_paris],\n\u001b[0m\u001b[1;32m      2\u001b[0m                                      \u001b[0;34m[\u001b[0m\u001b[0;34m'69123'\u001b[0m\u001b[0;34m,\u001b[0m \u001b[0;34m'Lyon'\u001b[0m\u001b[0;34m,\u001b[0m \u001b[0mpop_lyon\u001b[0m\u001b[0;34m]\u001b[0m\u001b[0;34m,\u001b[0m\u001b[0;34m\u001b[0m\u001b[0;34m\u001b[0m\u001b[0m\n\u001b[1;32m      3\u001b[0m                                      ['13055', 'Marseille', pop_marseille]], \n\u001b[1;32m      4\u001b[0m                                     columns=['code_dep', 'nom_dep', 'population']))\n",
      "\u001b[0;31mNameError\u001b[0m: name 'pop_paris' is not defined"
     ]
    }
   ],
   "source": [
    "df_pop = df_pop.append(pd.DataFrame([['75056', 'Paris', pop_paris],\n",
    "                                     ['69123', 'Lyon', pop_lyon],\n",
    "                                     ['13055', 'Marseille', pop_marseille]], \n",
    "                                    columns=['code_dep', 'nom_dep', 'population']))"
   ]
  },
  {
   "cell_type": "markdown",
   "metadata": {},
   "source": [
    " "
   ]
  },
  {
   "cell_type": "markdown",
   "metadata": {},
   "source": [
    "<img src='./oc2.png' width=15px /> Réinitialiser les index du dataframe."
   ]
  },
  {
   "cell_type": "code",
   "execution_count": null,
   "metadata": {},
   "outputs": [],
   "source": [
    "df_pop = df_pop.reset_index(drop=True)"
   ]
  },
  {
   "cell_type": "markdown",
   "metadata": {},
   "source": [
    "-----------\n",
    "\n",
    "## Partie 2 - Qualité de la couverture du réseau mobile (50 minutes)\n",
    "### 1 - Chargement des données"
   ]
  },
  {
   "cell_type": "markdown",
   "metadata": {},
   "source": [
    "<img src='./oc2.png' width=15px /> Téléchargez et importez le fichier à [l'URL suivante](https://www.data.gouv.fr/fr/datasets/r/77ca5457-c1fe-4450-9761-1a6a598921c0), stockez le résultat du chargement dans la variable `df_reseau`.\n",
    "\n",
    "**Petit coup de pouce pour démarrer**, pour chacune des conditions suivantes, trouvez le paramètre de la fonction `read_csv` adapté :\n",
    "- les colonnes sont séparées par des points-virgules\n",
    "- l'encodage a utiliser est *iso-8859-1*"
   ]
  },
  {
   "cell_type": "code",
   "execution_count": null,
   "metadata": {},
   "outputs": [
    {
     "name": "stderr",
     "output_type": "stream",
     "text": [
      "/home/pag/deps/miniconda3/lib/python3.7/site-packages/IPython/core/interactiveshell.py:3051: DtypeWarning: Columns (3,4,9) have mixed types.Specify dtype option on import or set low_memory=False.\n",
      "  interactivity=interactivity, compiler=compiler, result=result)\n"
     ]
    }
   ],
   "source": [
    "df_reseau = pd.read_csv('data/2020-t2-metropole-sites.csv', sep=';', encoding='iso-8859-1')"
   ]
  },
  {
   "cell_type": "markdown",
   "metadata": {},
   "source": [
    "<img src='./oc2.png' width=15px /> Familliarisez vous avec les données, le détails des colonnes est disponible [ici](https://www.data.gouv.fr/fr/datasets/mon-reseau-mobile/#resource-77ca5457-c1fe-4450-9761-1a6a598921c0)."
   ]
  },
  {
   "cell_type": "markdown",
   "metadata": {},
   "source": [
    "### 2 - Qualité des données"
   ]
  },
  {
   "cell_type": "markdown",
   "metadata": {},
   "source": [
    "<img src='./oc2.png' width=15px /> Calculer le nombre de valeurs manquantes par colonne."
   ]
  },
  {
   "cell_type": "code",
   "execution_count": null,
   "metadata": {},
   "outputs": [
    {
     "data": {
      "text/plain": [
       "code_op          0\n",
       "nom_op           0\n",
       "num_site         0\n",
       "x_lambert_93     0\n",
       "y_lambert_93     0\n",
       "nom_reg          0\n",
       "nom_dep          0\n",
       "insee_dep        0\n",
       "nom_com         11\n",
       "insee_com        0\n",
       "site_2g          0\n",
       "site_3g          0\n",
       "site_4g          0\n",
       "mes_4g_trim      0\n",
       "site_ZB          0\n",
       "site_DCC         0\n",
       "dtype: int64"
      ]
     },
     "execution_count": 23,
     "metadata": {},
     "output_type": "execute_result"
    }
   ],
   "source": [
    "df_reseau.isna().sum()"
   ]
  },
  {
   "cell_type": "markdown",
   "metadata": {},
   "source": [
    " "
   ]
  },
  {
   "cell_type": "markdown",
   "metadata": {},
   "source": [
    "<img src='./oc2.png' width=15px /> Existe-t-il des duplicatas ? si oui, supprimez les."
   ]
  },
  {
   "cell_type": "code",
   "execution_count": null,
   "metadata": {},
   "outputs": [],
   "source": [
    "df_reseau.duplicated().sum()\n",
    "df_reseau = df_reseau.drop_duplicates()"
   ]
  },
  {
   "cell_type": "markdown",
   "metadata": {},
   "source": [
    " "
   ]
  },
  {
   "cell_type": "markdown",
   "metadata": {},
   "source": [
    "<img src='./oc2.png' width=15px /> Supprimez les variables suivantes ['num_site', 'code_op', 'x_lambert_93', 'y_lambert_93', 'site_ZB', 'site_DCC']."
   ]
  },
  {
   "cell_type": "code",
   "execution_count": null,
   "metadata": {},
   "outputs": [],
   "source": [
    "df_reseau = df_reseau.drop(['num_site', 'code_op', 'x_lambert_93',\n",
    "                            'y_lambert_93', 'mes_4g_trim', 'site_ZB', 'site_DCC'], axis=1)"
   ]
  },
  {
   "cell_type": "code",
   "execution_count": null,
   "metadata": {},
   "outputs": [
    {
     "data": {
      "text/html": [
       "<div>\n",
       "<style scoped>\n",
       "    .dataframe tbody tr th:only-of-type {\n",
       "        vertical-align: middle;\n",
       "    }\n",
       "\n",
       "    .dataframe tbody tr th {\n",
       "        vertical-align: top;\n",
       "    }\n",
       "\n",
       "    .dataframe thead th {\n",
       "        text-align: right;\n",
       "    }\n",
       "</style>\n",
       "<table border=\"1\" class=\"dataframe\">\n",
       "  <thead>\n",
       "    <tr style=\"text-align: right;\">\n",
       "      <th></th>\n",
       "      <th>nom_op</th>\n",
       "      <th>nom_reg</th>\n",
       "      <th>nom_dep</th>\n",
       "      <th>insee_dep</th>\n",
       "      <th>nom_com</th>\n",
       "      <th>insee_com</th>\n",
       "      <th>site_2g</th>\n",
       "      <th>site_3g</th>\n",
       "      <th>site_4g</th>\n",
       "    </tr>\n",
       "  </thead>\n",
       "  <tbody>\n",
       "    <tr>\n",
       "      <th>0</th>\n",
       "      <td>Orange</td>\n",
       "      <td>AUVERGNE RHONE ALPES</td>\n",
       "      <td>AIN</td>\n",
       "      <td>01</td>\n",
       "      <td>BOURG EN BRESSE</td>\n",
       "      <td>01053</td>\n",
       "      <td>1</td>\n",
       "      <td>1</td>\n",
       "      <td>1</td>\n",
       "    </tr>\n",
       "    <tr>\n",
       "      <th>1</th>\n",
       "      <td>Orange</td>\n",
       "      <td>AUVERGNE RHONE ALPES</td>\n",
       "      <td>AIN</td>\n",
       "      <td>01</td>\n",
       "      <td>DAGNEUX</td>\n",
       "      <td>01142</td>\n",
       "      <td>1</td>\n",
       "      <td>1</td>\n",
       "      <td>1</td>\n",
       "    </tr>\n",
       "    <tr>\n",
       "      <th>2</th>\n",
       "      <td>Orange</td>\n",
       "      <td>AUVERGNE RHONE ALPES</td>\n",
       "      <td>AIN</td>\n",
       "      <td>01</td>\n",
       "      <td>TRAMOYES</td>\n",
       "      <td>01424</td>\n",
       "      <td>1</td>\n",
       "      <td>1</td>\n",
       "      <td>1</td>\n",
       "    </tr>\n",
       "    <tr>\n",
       "      <th>3</th>\n",
       "      <td>Orange</td>\n",
       "      <td>AUVERGNE RHONE ALPES</td>\n",
       "      <td>AIN</td>\n",
       "      <td>01</td>\n",
       "      <td>NANTUA</td>\n",
       "      <td>01269</td>\n",
       "      <td>1</td>\n",
       "      <td>1</td>\n",
       "      <td>1</td>\n",
       "    </tr>\n",
       "    <tr>\n",
       "      <th>4</th>\n",
       "      <td>Orange</td>\n",
       "      <td>AUVERGNE RHONE ALPES</td>\n",
       "      <td>AIN</td>\n",
       "      <td>01</td>\n",
       "      <td>NEYROLLES</td>\n",
       "      <td>01274</td>\n",
       "      <td>1</td>\n",
       "      <td>1</td>\n",
       "      <td>1</td>\n",
       "    </tr>\n",
       "  </tbody>\n",
       "</table>\n",
       "</div>"
      ],
      "text/plain": [
       "   nom_op               nom_reg nom_dep insee_dep          nom_com insee_com  \\\n",
       "0  Orange  AUVERGNE RHONE ALPES     AIN        01  BOURG EN BRESSE     01053   \n",
       "1  Orange  AUVERGNE RHONE ALPES     AIN        01          DAGNEUX     01142   \n",
       "2  Orange  AUVERGNE RHONE ALPES     AIN        01         TRAMOYES     01424   \n",
       "3  Orange  AUVERGNE RHONE ALPES     AIN        01           NANTUA     01269   \n",
       "4  Orange  AUVERGNE RHONE ALPES     AIN        01        NEYROLLES     01274   \n",
       "\n",
       "   site_2g  site_3g  site_4g  \n",
       "0        1        1        1  \n",
       "1        1        1        1  \n",
       "2        1        1        1  \n",
       "3        1        1        1  \n",
       "4        1        1        1  "
      ]
     },
     "execution_count": 26,
     "metadata": {},
     "output_type": "execute_result"
    }
   ],
   "source": [
    "df_reseau.head(5)"
   ]
  },
  {
   "cell_type": "markdown",
   "metadata": {},
   "source": [
    "<img src='./oc2.png' width=15px /> Quels sont les départements listés dans ce fichier ? rien d'anormal ?"
   ]
  },
  {
   "cell_type": "code",
   "execution_count": null,
   "metadata": {},
   "outputs": [
    {
     "data": {
      "text/plain": [
       "array(['AIN', 'AISNE', 'ALLIER', 'ALPES-DE-HAUTE-PROVENCE',\n",
       "       'HAUTES-ALPES', 'ALPES-MARITIMES', 'ARDECHE', 'ARDENNES', 'ARIEGE',\n",
       "       'AUBE', 'HAUTE-MARNE', 'AUDE', 'AVEYRON', 'BOUCHES-DU-RHONE',\n",
       "       'CALVADOS', 'CANTAL', 'CHARENTE', 'CHARENTE-MARITIME', 'CHER',\n",
       "       'CORREZE', \"COTE-D'OR\", \"COTES-D'ARMOR\", 'CREUSE', 'INDRE',\n",
       "       'DORDOGNE', 'DOUBS', 'DROME', 'EURE', 'SEINE-MARITIME',\n",
       "       'EURE-ET-LOIR', 'FINISTERE', 'CORSE-DU-SUD', 'HAUTE-CORSE', 'GARD',\n",
       "       'HAUTE-GARONNE', 'GERS', 'GIRONDE', 'HERAULT', 'ILLE-ET-VILAINE',\n",
       "       'INDRE-ET-LOIRE', 'ISERE', 'JURA', 'LANDES', 'LOIR-ET-CHER',\n",
       "       'LOIRE', 'RHONE', 'HAUTE-LOIRE', 'LOIRE-ATLANTIQUE', 'MORBIHAN',\n",
       "       'LOIRET', 'LOT', 'LOT-ET-GARONNE', 'LOZERE', 'MAINE-ET-LOIRE',\n",
       "       'MANCHE', 'MARNE', 'MAYENNE', 'MEURTHE-ET-MOSELLE', 'MOSELLE',\n",
       "       'MEUSE', 'NIEVRE', 'NORD', 'OISE', 'ORNE', 'PAS-DE-CALAIS',\n",
       "       'PUY-DE-DOME', 'PYRENEES-ATLANTIQUES', 'HAUTES-PYRENEES',\n",
       "       'PYRENEES-ORIENTALES', 'BAS-RHIN', 'HAUT-RHIN', 'HAUTE-SAONE',\n",
       "       'SAONE-ET-LOIRE', 'SARTHE', 'SAVOIE', 'HAUTE-SAVOIE', 'PARIS',\n",
       "       'SEINE-ET-MARNE', 'SEINE-SAINT-DENIS', 'YVELINES', \"VAL-D'OISE\",\n",
       "       'DEUX-SEVRES', 'SOMME', 'TARN', 'TARN-ET-GARONNE', 'VAR',\n",
       "       'VAUCLUSE', 'VENDEE', 'VIENNE', 'HAUTE-VIENNE', 'VOSGES', 'YONNE',\n",
       "       'TERRITOIRE DE BELFORT', 'ESSONNE', 'HAUTS-DE-SEINE',\n",
       "       'VAL-DE-MARNE', 'TERRITOIRE-DE-BELFORT', 'SEINE MARITIME', 'Ain',\n",
       "       'Allier', 'ARDÈCHE', 'Ardennes', 'FINISTÈRE', 'Aude',\n",
       "       'INDRE ET LOIRE', 'Aveyron', 'Calvados', 'COTE D\\x92OR',\n",
       "       'PUY DE DOME', 'PYRENEES ATLANTIQUES', 'Doubs', 'Eure',\n",
       "       'EURE ET LOIR', 'Jura', 'Loiret', 'Lot', 'ALPES DE HAUTE PROVENCE',\n",
       "       'HAUTES ALPES', 'ALPES MARITIMES', 'LOT ET GARONNE', 'Manche',\n",
       "       'ARIÈGE', 'MEURTHE ET MOSELLE', 'Moselle', 'CORSE DU SUD', 'Oise',\n",
       "       'PAS DE CALAIS', 'HAUTE GARONNE', 'ILLE ET VILAINE',\n",
       "       'LOIR ET CHER', 'HAUTE LOIRE', 'LOIRE ATLANTIQUE', 'Tarn',\n",
       "       'Vaucluse', 'MAINE ET LOIRE', 'BAS RHIN', 'HAUTE SAONE',\n",
       "       'SAONE ET LOIRE', 'HAUTE SAVOIE', 'HAUTE VIENNE'], dtype=object)"
      ]
     },
     "execution_count": 27,
     "metadata": {},
     "output_type": "execute_result"
    }
   ],
   "source": [
    "df_reseau['nom_dep'].unique()"
   ]
  },
  {
   "cell_type": "code",
   "execution_count": null,
   "metadata": {},
   "outputs": [],
   "source": [
    "df_reseau['nom_dep'] = df_reseau['nom_dep'].str.lower().str.replace('-', ' ')\n",
    "df_reseau['nom_reg'] = df_reseau['nom_reg'].str.lower().str.replace('-', ' ')"
   ]
  },
  {
   "cell_type": "markdown",
   "metadata": {},
   "source": [
    " "
   ]
  },
  {
   "cell_type": "markdown",
   "metadata": {},
   "source": [
    "### 3 - Analyse des données"
   ]
  },
  {
   "cell_type": "markdown",
   "metadata": {},
   "source": [
    "<img src='./oc2.png' width=15px /> Quels sont les opérateurs français référencés dans ce fichier ?"
   ]
  },
  {
   "cell_type": "code",
   "execution_count": null,
   "metadata": {},
   "outputs": [
    {
     "data": {
      "text/plain": [
       "array(['Orange', 'SFR', 'Free Mobile', 'Bouygues Telecom'], dtype=object)"
      ]
     },
     "execution_count": 29,
     "metadata": {},
     "output_type": "execute_result"
    }
   ],
   "source": [
    "df_reseau['nom_op'].unique()"
   ]
  },
  {
   "cell_type": "markdown",
   "metadata": {},
   "source": [
    " "
   ]
  },
  {
   "cell_type": "markdown",
   "metadata": {},
   "source": [
    "<img src='./oc2.png' width=15px /> Affichez le nombre de sites pour chacun des opérateurs."
   ]
  },
  {
   "cell_type": "code",
   "execution_count": null,
   "metadata": {},
   "outputs": [
    {
     "data": {
      "text/plain": [
       "Orange              25141\n",
       "SFR                 22267\n",
       "Bouygues Telecom    21005\n",
       "Free Mobile         17918\n",
       "Name: nom_op, dtype: int64"
      ]
     },
     "execution_count": 30,
     "metadata": {},
     "output_type": "execute_result"
    }
   ],
   "source": [
    "df_reseau['nom_op'].value_counts()"
   ]
  },
  {
   "cell_type": "markdown",
   "metadata": {},
   "source": [
    " "
   ]
  },
  {
   "cell_type": "markdown",
   "metadata": {},
   "source": [
    "<img src='./oc2.png' width=15px /> Affichez le nombre d'antennes en fonction des opérateurs et des technologies (indice : tableau pivot)."
   ]
  },
  {
   "cell_type": "code",
   "execution_count": null,
   "metadata": {},
   "outputs": [
    {
     "data": {
      "text/html": [
       "<div>\n",
       "<style scoped>\n",
       "    .dataframe tbody tr th:only-of-type {\n",
       "        vertical-align: middle;\n",
       "    }\n",
       "\n",
       "    .dataframe tbody tr th {\n",
       "        vertical-align: top;\n",
       "    }\n",
       "\n",
       "    .dataframe thead th {\n",
       "        text-align: right;\n",
       "    }\n",
       "</style>\n",
       "<table border=\"1\" class=\"dataframe\">\n",
       "  <thead>\n",
       "    <tr style=\"text-align: right;\">\n",
       "      <th></th>\n",
       "      <th>site_2g</th>\n",
       "      <th>site_3g</th>\n",
       "      <th>site_4g</th>\n",
       "    </tr>\n",
       "    <tr>\n",
       "      <th>nom_op</th>\n",
       "      <th></th>\n",
       "      <th></th>\n",
       "      <th></th>\n",
       "    </tr>\n",
       "  </thead>\n",
       "  <tbody>\n",
       "    <tr>\n",
       "      <th>Bouygues Telecom</th>\n",
       "      <td>19988</td>\n",
       "      <td>20823</td>\n",
       "      <td>19158</td>\n",
       "    </tr>\n",
       "    <tr>\n",
       "      <th>Free Mobile</th>\n",
       "      <td>0</td>\n",
       "      <td>17918</td>\n",
       "      <td>16605</td>\n",
       "    </tr>\n",
       "    <tr>\n",
       "      <th>Orange</th>\n",
       "      <td>19766</td>\n",
       "      <td>24770</td>\n",
       "      <td>22620</td>\n",
       "    </tr>\n",
       "    <tr>\n",
       "      <th>SFR</th>\n",
       "      <td>20621</td>\n",
       "      <td>22093</td>\n",
       "      <td>19758</td>\n",
       "    </tr>\n",
       "    <tr>\n",
       "      <th>All</th>\n",
       "      <td>60375</td>\n",
       "      <td>85604</td>\n",
       "      <td>78141</td>\n",
       "    </tr>\n",
       "  </tbody>\n",
       "</table>\n",
       "</div>"
      ],
      "text/plain": [
       "                  site_2g  site_3g  site_4g\n",
       "nom_op                                     \n",
       "Bouygues Telecom    19988    20823    19158\n",
       "Free Mobile             0    17918    16605\n",
       "Orange              19766    24770    22620\n",
       "SFR                 20621    22093    19758\n",
       "All                 60375    85604    78141"
      ]
     },
     "execution_count": 31,
     "metadata": {},
     "output_type": "execute_result"
    }
   ],
   "source": [
    "df_reseau.pivot_table(['site_2g', 'site_3g', 'site_4g'], ['nom_op'], aggfunc='sum', margins=True)"
   ]
  },
  {
   "cell_type": "markdown",
   "metadata": {},
   "source": [
    " "
   ]
  },
  {
   "cell_type": "markdown",
   "metadata": {},
   "source": [
    "<img src='./oc2.png' width=15px /> Quelles sont les 15 communes disposant du plus d'antennes, tous types confondus ? utilisez le code commune comme indicateur de regroupement (indice groupby)."
   ]
  },
  {
   "cell_type": "code",
   "execution_count": null,
   "metadata": {},
   "outputs": [],
   "source": [
    "top15_com = df_reseau.groupby('insee_com').sum()[['site_2g', 'site_3g', 'site_4g']].sum(axis=1).sort_values(ascending=False).head(15)"
   ]
  },
  {
   "cell_type": "markdown",
   "metadata": {},
   "source": [
    " "
   ]
  },
  {
   "cell_type": "markdown",
   "metadata": {},
   "source": [
    "<img src='./oc2.png' width=15px /> Avec ce top 15 des codes communes, retrouvez la taille de population associée (utilisez le fichier population). Une autre façon d'expliquer : affichez la taille de population des communes dont le numéro est contenu dans le top 15. (indice isin)"
   ]
  },
  {
   "cell_type": "code",
   "execution_count": null,
   "metadata": {},
   "outputs": [
    {
     "data": {
      "text/html": [
       "<div>\n",
       "<style scoped>\n",
       "    .dataframe tbody tr th:only-of-type {\n",
       "        vertical-align: middle;\n",
       "    }\n",
       "\n",
       "    .dataframe tbody tr th {\n",
       "        vertical-align: top;\n",
       "    }\n",
       "\n",
       "    .dataframe thead th {\n",
       "        text-align: right;\n",
       "    }\n",
       "</style>\n",
       "<table border=\"1\" class=\"dataframe\">\n",
       "  <thead>\n",
       "    <tr style=\"text-align: right;\">\n",
       "      <th></th>\n",
       "      <th>code_dep</th>\n",
       "      <th>nom_dep</th>\n",
       "      <th>population</th>\n",
       "    </tr>\n",
       "  </thead>\n",
       "  <tbody>\n",
       "    <tr>\n",
       "      <th>1958</th>\n",
       "      <td>06088</td>\n",
       "      <td>Nice</td>\n",
       "      <td>342979</td>\n",
       "    </tr>\n",
       "    <tr>\n",
       "      <th>4293</th>\n",
       "      <td>13001</td>\n",
       "      <td>Aix-en-Provence</td>\n",
       "      <td>145676</td>\n",
       "    </tr>\n",
       "    <tr>\n",
       "      <th>11098</th>\n",
       "      <td>30189</td>\n",
       "      <td>Nîmes</td>\n",
       "      <td>152952</td>\n",
       "    </tr>\n",
       "    <tr>\n",
       "      <th>11815</th>\n",
       "      <td>31555</td>\n",
       "      <td>Toulouse</td>\n",
       "      <td>484809</td>\n",
       "    </tr>\n",
       "    <tr>\n",
       "      <th>12370</th>\n",
       "      <td>33063</td>\n",
       "      <td>Bordeaux</td>\n",
       "      <td>257804</td>\n",
       "    </tr>\n",
       "    <tr>\n",
       "      <th>13019</th>\n",
       "      <td>34172</td>\n",
       "      <td>Montpellier</td>\n",
       "      <td>288600</td>\n",
       "    </tr>\n",
       "    <tr>\n",
       "      <th>13409</th>\n",
       "      <td>35238</td>\n",
       "      <td>Rennes</td>\n",
       "      <td>220925</td>\n",
       "    </tr>\n",
       "    <tr>\n",
       "      <th>15840</th>\n",
       "      <td>42218</td>\n",
       "      <td>Saint-Étienne</td>\n",
       "      <td>174520</td>\n",
       "    </tr>\n",
       "    <tr>\n",
       "      <th>16316</th>\n",
       "      <td>44109</td>\n",
       "      <td>Nantes</td>\n",
       "      <td>314503</td>\n",
       "    </tr>\n",
       "    <tr>\n",
       "      <th>22149</th>\n",
       "      <td>59350</td>\n",
       "      <td>Lille</td>\n",
       "      <td>234842</td>\n",
       "    </tr>\n",
       "    <tr>\n",
       "      <th>26555</th>\n",
       "      <td>67482</td>\n",
       "      <td>Strasbourg</td>\n",
       "      <td>283745</td>\n",
       "    </tr>\n",
       "    <tr>\n",
       "      <th>34950</th>\n",
       "      <td>75056</td>\n",
       "      <td>Paris</td>\n",
       "      <td>2204773</td>\n",
       "    </tr>\n",
       "    <tr>\n",
       "      <th>34951</th>\n",
       "      <td>69123</td>\n",
       "      <td>Lyon</td>\n",
       "      <td>522679</td>\n",
       "    </tr>\n",
       "    <tr>\n",
       "      <th>34952</th>\n",
       "      <td>13055</td>\n",
       "      <td>Marseille</td>\n",
       "      <td>869815</td>\n",
       "    </tr>\n",
       "  </tbody>\n",
       "</table>\n",
       "</div>"
      ],
      "text/plain": [
       "      code_dep          nom_dep  population\n",
       "1958     06088             Nice      342979\n",
       "4293     13001  Aix-en-Provence      145676\n",
       "11098    30189            Nîmes      152952\n",
       "11815    31555         Toulouse      484809\n",
       "12370    33063         Bordeaux      257804\n",
       "13019    34172      Montpellier      288600\n",
       "13409    35238           Rennes      220925\n",
       "15840    42218    Saint-Étienne      174520\n",
       "16316    44109           Nantes      314503\n",
       "22149    59350            Lille      234842\n",
       "26555    67482       Strasbourg      283745\n",
       "34950    75056            Paris     2204773\n",
       "34951    69123             Lyon      522679\n",
       "34952    13055        Marseille      869815"
      ]
     },
     "execution_count": 33,
     "metadata": {},
     "output_type": "execute_result"
    }
   ],
   "source": [
    "df_pop[df_pop['code_dep'].isin(top15_com.index.map(str))]"
   ]
  },
  {
   "cell_type": "markdown",
   "metadata": {},
   "source": [
    " \n"
   ]
  },
  {
   "cell_type": "markdown",
   "metadata": {},
   "source": [
    "<img src='./oc2.png' width=15px /> Faites une jointure des tables réseau et population pour récupérer la population totale associée à chacune des communes."
   ]
  },
  {
   "cell_type": "code",
   "execution_count": null,
   "metadata": {},
   "outputs": [],
   "source": [
    "df_pop_reseau = df_reseau.merge(df_pop[['code_dep', 'population']], \n",
    "                                left_on='insee_com', \n",
    "                                right_on='code_dep', \n",
    "                                how='left')"
   ]
  },
  {
   "cell_type": "markdown",
   "metadata": {},
   "source": [
    " "
   ]
  },
  {
   "cell_type": "markdown",
   "metadata": {},
   "source": [
    "<img src='./oc2.png' width=15px /> La jointure n'est pas complète car certaines communes ne sont pas référencées dans la table population. Vérifiez la qualité des données après jointure des tables."
   ]
  },
  {
   "cell_type": "code",
   "execution_count": null,
   "metadata": {},
   "outputs": [
    {
     "data": {
      "text/plain": [
       "nom_op        0.000000\n",
       "nom_reg       0.000000\n",
       "nom_dep       0.000000\n",
       "insee_dep     0.000000\n",
       "nom_com       0.000127\n",
       "insee_com     0.000000\n",
       "site_2g       0.000000\n",
       "site_3g       0.000000\n",
       "site_4g       0.000000\n",
       "code_dep      0.275533\n",
       "population    0.275533\n",
       "dtype: float64"
      ]
     },
     "execution_count": 35,
     "metadata": {},
     "output_type": "execute_result"
    }
   ],
   "source": [
    "df_pop_reseau.isna().mean()"
   ]
  },
  {
   "cell_type": "markdown",
   "metadata": {},
   "source": [
    " \n",
    " "
   ]
  },
  {
   "cell_type": "markdown",
   "metadata": {},
   "source": [
    "<img src='./oc2.png' width=15px /> Un utilisateur nous demande de lui trouver une **commune dans le rhone**, dont la population est inférieure à **1 000 habitants** et disposant d'une bonne couverture réseau pour l'opérateur **Orange**, à vous de jouer."
   ]
  },
  {
   "cell_type": "code",
   "execution_count": null,
   "metadata": {},
   "outputs": [
    {
     "data": {
      "text/html": [
       "<div>\n",
       "<style scoped>\n",
       "    .dataframe tbody tr th:only-of-type {\n",
       "        vertical-align: middle;\n",
       "    }\n",
       "\n",
       "    .dataframe tbody tr th {\n",
       "        vertical-align: top;\n",
       "    }\n",
       "\n",
       "    .dataframe thead th {\n",
       "        text-align: right;\n",
       "    }\n",
       "</style>\n",
       "<table border=\"1\" class=\"dataframe\">\n",
       "  <thead>\n",
       "    <tr style=\"text-align: right;\">\n",
       "      <th></th>\n",
       "      <th>nom_op</th>\n",
       "      <th>nom_reg</th>\n",
       "      <th>nom_dep</th>\n",
       "      <th>insee_dep</th>\n",
       "      <th>nom_com</th>\n",
       "      <th>insee_com</th>\n",
       "      <th>site_2g</th>\n",
       "      <th>site_3g</th>\n",
       "      <th>site_4g</th>\n",
       "      <th>code_dep</th>\n",
       "      <th>population</th>\n",
       "    </tr>\n",
       "  </thead>\n",
       "  <tbody>\n",
       "    <tr>\n",
       "      <th>17766</th>\n",
       "      <td>Orange</td>\n",
       "      <td>auvergne rhone alpes</td>\n",
       "      <td>rhone</td>\n",
       "      <td>69</td>\n",
       "      <td>SAINT VINCENT DE REINS</td>\n",
       "      <td>69240</td>\n",
       "      <td>1</td>\n",
       "      <td>1</td>\n",
       "      <td>1</td>\n",
       "      <td>69240</td>\n",
       "      <td>636.0</td>\n",
       "    </tr>\n",
       "    <tr>\n",
       "      <th>17753</th>\n",
       "      <td>Orange</td>\n",
       "      <td>auvergne rhone alpes</td>\n",
       "      <td>rhone</td>\n",
       "      <td>69</td>\n",
       "      <td>SAINT ROMAIN EN GIER</td>\n",
       "      <td>69236</td>\n",
       "      <td>1</td>\n",
       "      <td>1</td>\n",
       "      <td>1</td>\n",
       "      <td>69236</td>\n",
       "      <td>584.0</td>\n",
       "    </tr>\n",
       "    <tr>\n",
       "      <th>17561</th>\n",
       "      <td>Orange</td>\n",
       "      <td>auvergne rhone alpes</td>\n",
       "      <td>rhone</td>\n",
       "      <td>69</td>\n",
       "      <td>SAUVAGES</td>\n",
       "      <td>69174</td>\n",
       "      <td>1</td>\n",
       "      <td>1</td>\n",
       "      <td>1</td>\n",
       "      <td>69174</td>\n",
       "      <td>625.0</td>\n",
       "    </tr>\n",
       "    <tr>\n",
       "      <th>17571</th>\n",
       "      <td>Orange</td>\n",
       "      <td>auvergne rhone alpes</td>\n",
       "      <td>rhone</td>\n",
       "      <td>69</td>\n",
       "      <td>GREZIEU LE MARCHE</td>\n",
       "      <td>69095</td>\n",
       "      <td>1</td>\n",
       "      <td>1</td>\n",
       "      <td>1</td>\n",
       "      <td>69095</td>\n",
       "      <td>832.0</td>\n",
       "    </tr>\n",
       "    <tr>\n",
       "      <th>17584</th>\n",
       "      <td>Orange</td>\n",
       "      <td>auvergne rhone alpes</td>\n",
       "      <td>rhone</td>\n",
       "      <td>69</td>\n",
       "      <td>TREVES</td>\n",
       "      <td>69252</td>\n",
       "      <td>1</td>\n",
       "      <td>1</td>\n",
       "      <td>1</td>\n",
       "      <td>69252</td>\n",
       "      <td>746.0</td>\n",
       "    </tr>\n",
       "    <tr>\n",
       "      <th>17585</th>\n",
       "      <td>Orange</td>\n",
       "      <td>auvergne rhone alpes</td>\n",
       "      <td>rhone</td>\n",
       "      <td>69</td>\n",
       "      <td>SALLES ARBUISSONNAS EN BEAUJOLAIS</td>\n",
       "      <td>69172</td>\n",
       "      <td>1</td>\n",
       "      <td>1</td>\n",
       "      <td>1</td>\n",
       "      <td>69172</td>\n",
       "      <td>819.0</td>\n",
       "    </tr>\n",
       "    <tr>\n",
       "      <th>17588</th>\n",
       "      <td>Orange</td>\n",
       "      <td>auvergne rhone alpes</td>\n",
       "      <td>rhone</td>\n",
       "      <td>69</td>\n",
       "      <td>ARDILLATS</td>\n",
       "      <td>69012</td>\n",
       "      <td>1</td>\n",
       "      <td>1</td>\n",
       "      <td>1</td>\n",
       "      <td>69012</td>\n",
       "      <td>637.0</td>\n",
       "    </tr>\n",
       "    <tr>\n",
       "      <th>17650</th>\n",
       "      <td>Orange</td>\n",
       "      <td>auvergne rhone alpes</td>\n",
       "      <td>rhone</td>\n",
       "      <td>69</td>\n",
       "      <td>CHAMELET</td>\n",
       "      <td>69039</td>\n",
       "      <td>1</td>\n",
       "      <td>1</td>\n",
       "      <td>1</td>\n",
       "      <td>69039</td>\n",
       "      <td>692.0</td>\n",
       "    </tr>\n",
       "    <tr>\n",
       "      <th>17652</th>\n",
       "      <td>Orange</td>\n",
       "      <td>auvergne rhone alpes</td>\n",
       "      <td>rhone</td>\n",
       "      <td>69</td>\n",
       "      <td>SAINT NIZIER D AZERGUES</td>\n",
       "      <td>69229</td>\n",
       "      <td>1</td>\n",
       "      <td>1</td>\n",
       "      <td>1</td>\n",
       "      <td>69229</td>\n",
       "      <td>804.0</td>\n",
       "    </tr>\n",
       "    <tr>\n",
       "      <th>17657</th>\n",
       "      <td>Orange</td>\n",
       "      <td>auvergne rhone alpes</td>\n",
       "      <td>rhone</td>\n",
       "      <td>69</td>\n",
       "      <td>CLAVEISOLLES</td>\n",
       "      <td>69060</td>\n",
       "      <td>1</td>\n",
       "      <td>1</td>\n",
       "      <td>1</td>\n",
       "      <td>69060</td>\n",
       "      <td>730.0</td>\n",
       "    </tr>\n",
       "    <tr>\n",
       "      <th>17683</th>\n",
       "      <td>Orange</td>\n",
       "      <td>auvergne rhone alpes</td>\n",
       "      <td>rhone</td>\n",
       "      <td>69</td>\n",
       "      <td>SAINTE CATHERINE</td>\n",
       "      <td>69184</td>\n",
       "      <td>1</td>\n",
       "      <td>1</td>\n",
       "      <td>1</td>\n",
       "      <td>69184</td>\n",
       "      <td>1000.0</td>\n",
       "    </tr>\n",
       "    <tr>\n",
       "      <th>17722</th>\n",
       "      <td>Orange</td>\n",
       "      <td>auvergne rhone alpes</td>\n",
       "      <td>rhone</td>\n",
       "      <td>69</td>\n",
       "      <td>SAINT CLEMENT SUR VALSONNE</td>\n",
       "      <td>69188</td>\n",
       "      <td>1</td>\n",
       "      <td>1</td>\n",
       "      <td>1</td>\n",
       "      <td>69188</td>\n",
       "      <td>918.0</td>\n",
       "    </tr>\n",
       "    <tr>\n",
       "      <th>10340</th>\n",
       "      <td>Orange</td>\n",
       "      <td>auvergne rhone alpes</td>\n",
       "      <td>rhone</td>\n",
       "      <td>69</td>\n",
       "      <td>BELLEROCHE</td>\n",
       "      <td>42014</td>\n",
       "      <td>1</td>\n",
       "      <td>1</td>\n",
       "      <td>1</td>\n",
       "      <td>42014</td>\n",
       "      <td>321.0</td>\n",
       "    </tr>\n",
       "    <tr>\n",
       "      <th>17868</th>\n",
       "      <td>Orange</td>\n",
       "      <td>auvergne rhone alpes</td>\n",
       "      <td>rhone</td>\n",
       "      <td>69</td>\n",
       "      <td>COISE</td>\n",
       "      <td>69062</td>\n",
       "      <td>1</td>\n",
       "      <td>1</td>\n",
       "      <td>1</td>\n",
       "      <td>69062</td>\n",
       "      <td>791.0</td>\n",
       "    </tr>\n",
       "    <tr>\n",
       "      <th>17881</th>\n",
       "      <td>Orange</td>\n",
       "      <td>auvergne rhone alpes</td>\n",
       "      <td>rhone</td>\n",
       "      <td>69</td>\n",
       "      <td>SAINT MARCEL L ECLAIRE</td>\n",
       "      <td>69225</td>\n",
       "      <td>1</td>\n",
       "      <td>1</td>\n",
       "      <td>1</td>\n",
       "      <td>69225</td>\n",
       "      <td>538.0</td>\n",
       "    </tr>\n",
       "  </tbody>\n",
       "</table>\n",
       "</div>"
      ],
      "text/plain": [
       "       nom_op               nom_reg nom_dep insee_dep  \\\n",
       "17766  Orange  auvergne rhone alpes   rhone        69   \n",
       "17753  Orange  auvergne rhone alpes   rhone        69   \n",
       "17561  Orange  auvergne rhone alpes   rhone        69   \n",
       "17571  Orange  auvergne rhone alpes   rhone        69   \n",
       "17584  Orange  auvergne rhone alpes   rhone        69   \n",
       "17585  Orange  auvergne rhone alpes   rhone        69   \n",
       "17588  Orange  auvergne rhone alpes   rhone        69   \n",
       "17650  Orange  auvergne rhone alpes   rhone        69   \n",
       "17652  Orange  auvergne rhone alpes   rhone        69   \n",
       "17657  Orange  auvergne rhone alpes   rhone        69   \n",
       "17683  Orange  auvergne rhone alpes   rhone        69   \n",
       "17722  Orange  auvergne rhone alpes   rhone        69   \n",
       "10340  Orange  auvergne rhone alpes   rhone        69   \n",
       "17868  Orange  auvergne rhone alpes   rhone        69   \n",
       "17881  Orange  auvergne rhone alpes   rhone        69   \n",
       "\n",
       "                                 nom_com insee_com  site_2g  site_3g  site_4g  \\\n",
       "17766             SAINT VINCENT DE REINS     69240        1        1        1   \n",
       "17753               SAINT ROMAIN EN GIER     69236        1        1        1   \n",
       "17561                           SAUVAGES     69174        1        1        1   \n",
       "17571                  GREZIEU LE MARCHE     69095        1        1        1   \n",
       "17584                             TREVES     69252        1        1        1   \n",
       "17585  SALLES ARBUISSONNAS EN BEAUJOLAIS     69172        1        1        1   \n",
       "17588                          ARDILLATS     69012        1        1        1   \n",
       "17650                           CHAMELET     69039        1        1        1   \n",
       "17652            SAINT NIZIER D AZERGUES     69229        1        1        1   \n",
       "17657                       CLAVEISOLLES     69060        1        1        1   \n",
       "17683                   SAINTE CATHERINE     69184        1        1        1   \n",
       "17722         SAINT CLEMENT SUR VALSONNE     69188        1        1        1   \n",
       "10340                         BELLEROCHE     42014        1        1        1   \n",
       "17868                              COISE     69062        1        1        1   \n",
       "17881             SAINT MARCEL L ECLAIRE     69225        1        1        1   \n",
       "\n",
       "      code_dep  population  \n",
       "17766    69240       636.0  \n",
       "17753    69236       584.0  \n",
       "17561    69174       625.0  \n",
       "17571    69095       832.0  \n",
       "17584    69252       746.0  \n",
       "17585    69172       819.0  \n",
       "17588    69012       637.0  \n",
       "17650    69039       692.0  \n",
       "17652    69229       804.0  \n",
       "17657    69060       730.0  \n",
       "17683    69184      1000.0  \n",
       "17722    69188       918.0  \n",
       "10340    42014       321.0  \n",
       "17868    69062       791.0  \n",
       "17881    69225       538.0  "
      ]
     },
     "execution_count": 36,
     "metadata": {},
     "output_type": "execute_result"
    }
   ],
   "source": [
    "filter_rhone = df_pop_reseau['nom_dep'] == 'rhone'\n",
    "filter_pop = df_pop_reseau['population'] <= 1000\n",
    "filter_op = df_pop_reseau['nom_op'] == 'Orange'\n",
    "df_client = df_pop_reseau[filter_rhone & filter_pop & filter_op]\n",
    "\n",
    "candidates = df_client[['site_2g', 'site_3g', 'site_4g']].sum(axis=1).sort_values(ascending=False).head(15).index\n",
    "df_client.loc[candidates]"
   ]
  },
  {
   "cell_type": "markdown",
   "metadata": {},
   "source": [
    " \n",
    " "
   ]
  },
  {
   "cell_type": "markdown",
   "metadata": {},
   "source": [
    "<img src='./oc2.png' width=15px /> Pouvez-vous faire une fonction pour automatiser cette recherche ?"
   ]
  },
  {
   "cell_type": "code",
   "execution_count": null,
   "metadata": {},
   "outputs": [],
   "source": [
    "def find_best_communes(nom_dep, taille_pop, nom_op, df_pop_reseau, df_client):\n",
    "    filter_dep = df_pop_reseau['nom_dep'] == nom_dep\n",
    "    filter_pop = df_pop_reseau['population'] <= taille_pop\n",
    "    filter_op = df_pop_reseau['nom_op'] == nom_op\n",
    "    df_client = df_pop_reseau[filter_dep & filter_pop & filter_op]\n",
    "\n",
    "    candidates = df_client[['site_2g', 'site_3g', 'site_4g']].sum(axis=1).sort_values(ascending=False).head(15).index\n",
    "    return df_client.loc[candidates]"
   ]
  },
  {
   "cell_type": "markdown",
   "metadata": {},
   "source": [
    " "
   ]
  },
  {
   "cell_type": "markdown",
   "metadata": {},
   "source": [
    "<img src='./oc2.png' width=15px /> En utilisant la fonction précédente, ré-implémentez la recherche précédente."
   ]
  },
  {
   "cell_type": "code",
   "execution_count": null,
   "metadata": {},
   "outputs": [
    {
     "data": {
      "text/html": [
       "<div>\n",
       "<style scoped>\n",
       "    .dataframe tbody tr th:only-of-type {\n",
       "        vertical-align: middle;\n",
       "    }\n",
       "\n",
       "    .dataframe tbody tr th {\n",
       "        vertical-align: top;\n",
       "    }\n",
       "\n",
       "    .dataframe thead th {\n",
       "        text-align: right;\n",
       "    }\n",
       "</style>\n",
       "<table border=\"1\" class=\"dataframe\">\n",
       "  <thead>\n",
       "    <tr style=\"text-align: right;\">\n",
       "      <th></th>\n",
       "      <th>nom_op</th>\n",
       "      <th>nom_reg</th>\n",
       "      <th>nom_dep</th>\n",
       "      <th>insee_dep</th>\n",
       "      <th>nom_com</th>\n",
       "      <th>insee_com</th>\n",
       "      <th>site_2g</th>\n",
       "      <th>site_3g</th>\n",
       "      <th>site_4g</th>\n",
       "      <th>code_dep</th>\n",
       "      <th>population</th>\n",
       "    </tr>\n",
       "  </thead>\n",
       "  <tbody>\n",
       "    <tr>\n",
       "      <th>17766</th>\n",
       "      <td>Orange</td>\n",
       "      <td>auvergne rhone alpes</td>\n",
       "      <td>rhone</td>\n",
       "      <td>69</td>\n",
       "      <td>SAINT VINCENT DE REINS</td>\n",
       "      <td>69240</td>\n",
       "      <td>1</td>\n",
       "      <td>1</td>\n",
       "      <td>1</td>\n",
       "      <td>69240</td>\n",
       "      <td>636.0</td>\n",
       "    </tr>\n",
       "    <tr>\n",
       "      <th>17753</th>\n",
       "      <td>Orange</td>\n",
       "      <td>auvergne rhone alpes</td>\n",
       "      <td>rhone</td>\n",
       "      <td>69</td>\n",
       "      <td>SAINT ROMAIN EN GIER</td>\n",
       "      <td>69236</td>\n",
       "      <td>1</td>\n",
       "      <td>1</td>\n",
       "      <td>1</td>\n",
       "      <td>69236</td>\n",
       "      <td>584.0</td>\n",
       "    </tr>\n",
       "    <tr>\n",
       "      <th>17561</th>\n",
       "      <td>Orange</td>\n",
       "      <td>auvergne rhone alpes</td>\n",
       "      <td>rhone</td>\n",
       "      <td>69</td>\n",
       "      <td>SAUVAGES</td>\n",
       "      <td>69174</td>\n",
       "      <td>1</td>\n",
       "      <td>1</td>\n",
       "      <td>1</td>\n",
       "      <td>69174</td>\n",
       "      <td>625.0</td>\n",
       "    </tr>\n",
       "    <tr>\n",
       "      <th>17571</th>\n",
       "      <td>Orange</td>\n",
       "      <td>auvergne rhone alpes</td>\n",
       "      <td>rhone</td>\n",
       "      <td>69</td>\n",
       "      <td>GREZIEU LE MARCHE</td>\n",
       "      <td>69095</td>\n",
       "      <td>1</td>\n",
       "      <td>1</td>\n",
       "      <td>1</td>\n",
       "      <td>69095</td>\n",
       "      <td>832.0</td>\n",
       "    </tr>\n",
       "    <tr>\n",
       "      <th>17584</th>\n",
       "      <td>Orange</td>\n",
       "      <td>auvergne rhone alpes</td>\n",
       "      <td>rhone</td>\n",
       "      <td>69</td>\n",
       "      <td>TREVES</td>\n",
       "      <td>69252</td>\n",
       "      <td>1</td>\n",
       "      <td>1</td>\n",
       "      <td>1</td>\n",
       "      <td>69252</td>\n",
       "      <td>746.0</td>\n",
       "    </tr>\n",
       "    <tr>\n",
       "      <th>17585</th>\n",
       "      <td>Orange</td>\n",
       "      <td>auvergne rhone alpes</td>\n",
       "      <td>rhone</td>\n",
       "      <td>69</td>\n",
       "      <td>SALLES ARBUISSONNAS EN BEAUJOLAIS</td>\n",
       "      <td>69172</td>\n",
       "      <td>1</td>\n",
       "      <td>1</td>\n",
       "      <td>1</td>\n",
       "      <td>69172</td>\n",
       "      <td>819.0</td>\n",
       "    </tr>\n",
       "    <tr>\n",
       "      <th>17588</th>\n",
       "      <td>Orange</td>\n",
       "      <td>auvergne rhone alpes</td>\n",
       "      <td>rhone</td>\n",
       "      <td>69</td>\n",
       "      <td>ARDILLATS</td>\n",
       "      <td>69012</td>\n",
       "      <td>1</td>\n",
       "      <td>1</td>\n",
       "      <td>1</td>\n",
       "      <td>69012</td>\n",
       "      <td>637.0</td>\n",
       "    </tr>\n",
       "    <tr>\n",
       "      <th>17650</th>\n",
       "      <td>Orange</td>\n",
       "      <td>auvergne rhone alpes</td>\n",
       "      <td>rhone</td>\n",
       "      <td>69</td>\n",
       "      <td>CHAMELET</td>\n",
       "      <td>69039</td>\n",
       "      <td>1</td>\n",
       "      <td>1</td>\n",
       "      <td>1</td>\n",
       "      <td>69039</td>\n",
       "      <td>692.0</td>\n",
       "    </tr>\n",
       "    <tr>\n",
       "      <th>17652</th>\n",
       "      <td>Orange</td>\n",
       "      <td>auvergne rhone alpes</td>\n",
       "      <td>rhone</td>\n",
       "      <td>69</td>\n",
       "      <td>SAINT NIZIER D AZERGUES</td>\n",
       "      <td>69229</td>\n",
       "      <td>1</td>\n",
       "      <td>1</td>\n",
       "      <td>1</td>\n",
       "      <td>69229</td>\n",
       "      <td>804.0</td>\n",
       "    </tr>\n",
       "    <tr>\n",
       "      <th>17657</th>\n",
       "      <td>Orange</td>\n",
       "      <td>auvergne rhone alpes</td>\n",
       "      <td>rhone</td>\n",
       "      <td>69</td>\n",
       "      <td>CLAVEISOLLES</td>\n",
       "      <td>69060</td>\n",
       "      <td>1</td>\n",
       "      <td>1</td>\n",
       "      <td>1</td>\n",
       "      <td>69060</td>\n",
       "      <td>730.0</td>\n",
       "    </tr>\n",
       "    <tr>\n",
       "      <th>17683</th>\n",
       "      <td>Orange</td>\n",
       "      <td>auvergne rhone alpes</td>\n",
       "      <td>rhone</td>\n",
       "      <td>69</td>\n",
       "      <td>SAINTE CATHERINE</td>\n",
       "      <td>69184</td>\n",
       "      <td>1</td>\n",
       "      <td>1</td>\n",
       "      <td>1</td>\n",
       "      <td>69184</td>\n",
       "      <td>1000.0</td>\n",
       "    </tr>\n",
       "    <tr>\n",
       "      <th>17722</th>\n",
       "      <td>Orange</td>\n",
       "      <td>auvergne rhone alpes</td>\n",
       "      <td>rhone</td>\n",
       "      <td>69</td>\n",
       "      <td>SAINT CLEMENT SUR VALSONNE</td>\n",
       "      <td>69188</td>\n",
       "      <td>1</td>\n",
       "      <td>1</td>\n",
       "      <td>1</td>\n",
       "      <td>69188</td>\n",
       "      <td>918.0</td>\n",
       "    </tr>\n",
       "    <tr>\n",
       "      <th>10340</th>\n",
       "      <td>Orange</td>\n",
       "      <td>auvergne rhone alpes</td>\n",
       "      <td>rhone</td>\n",
       "      <td>69</td>\n",
       "      <td>BELLEROCHE</td>\n",
       "      <td>42014</td>\n",
       "      <td>1</td>\n",
       "      <td>1</td>\n",
       "      <td>1</td>\n",
       "      <td>42014</td>\n",
       "      <td>321.0</td>\n",
       "    </tr>\n",
       "    <tr>\n",
       "      <th>17868</th>\n",
       "      <td>Orange</td>\n",
       "      <td>auvergne rhone alpes</td>\n",
       "      <td>rhone</td>\n",
       "      <td>69</td>\n",
       "      <td>COISE</td>\n",
       "      <td>69062</td>\n",
       "      <td>1</td>\n",
       "      <td>1</td>\n",
       "      <td>1</td>\n",
       "      <td>69062</td>\n",
       "      <td>791.0</td>\n",
       "    </tr>\n",
       "    <tr>\n",
       "      <th>17881</th>\n",
       "      <td>Orange</td>\n",
       "      <td>auvergne rhone alpes</td>\n",
       "      <td>rhone</td>\n",
       "      <td>69</td>\n",
       "      <td>SAINT MARCEL L ECLAIRE</td>\n",
       "      <td>69225</td>\n",
       "      <td>1</td>\n",
       "      <td>1</td>\n",
       "      <td>1</td>\n",
       "      <td>69225</td>\n",
       "      <td>538.0</td>\n",
       "    </tr>\n",
       "  </tbody>\n",
       "</table>\n",
       "</div>"
      ],
      "text/plain": [
       "       nom_op               nom_reg nom_dep insee_dep  \\\n",
       "17766  Orange  auvergne rhone alpes   rhone        69   \n",
       "17753  Orange  auvergne rhone alpes   rhone        69   \n",
       "17561  Orange  auvergne rhone alpes   rhone        69   \n",
       "17571  Orange  auvergne rhone alpes   rhone        69   \n",
       "17584  Orange  auvergne rhone alpes   rhone        69   \n",
       "17585  Orange  auvergne rhone alpes   rhone        69   \n",
       "17588  Orange  auvergne rhone alpes   rhone        69   \n",
       "17650  Orange  auvergne rhone alpes   rhone        69   \n",
       "17652  Orange  auvergne rhone alpes   rhone        69   \n",
       "17657  Orange  auvergne rhone alpes   rhone        69   \n",
       "17683  Orange  auvergne rhone alpes   rhone        69   \n",
       "17722  Orange  auvergne rhone alpes   rhone        69   \n",
       "10340  Orange  auvergne rhone alpes   rhone        69   \n",
       "17868  Orange  auvergne rhone alpes   rhone        69   \n",
       "17881  Orange  auvergne rhone alpes   rhone        69   \n",
       "\n",
       "                                 nom_com insee_com  site_2g  site_3g  site_4g  \\\n",
       "17766             SAINT VINCENT DE REINS     69240        1        1        1   \n",
       "17753               SAINT ROMAIN EN GIER     69236        1        1        1   \n",
       "17561                           SAUVAGES     69174        1        1        1   \n",
       "17571                  GREZIEU LE MARCHE     69095        1        1        1   \n",
       "17584                             TREVES     69252        1        1        1   \n",
       "17585  SALLES ARBUISSONNAS EN BEAUJOLAIS     69172        1        1        1   \n",
       "17588                          ARDILLATS     69012        1        1        1   \n",
       "17650                           CHAMELET     69039        1        1        1   \n",
       "17652            SAINT NIZIER D AZERGUES     69229        1        1        1   \n",
       "17657                       CLAVEISOLLES     69060        1        1        1   \n",
       "17683                   SAINTE CATHERINE     69184        1        1        1   \n",
       "17722         SAINT CLEMENT SUR VALSONNE     69188        1        1        1   \n",
       "10340                         BELLEROCHE     42014        1        1        1   \n",
       "17868                              COISE     69062        1        1        1   \n",
       "17881             SAINT MARCEL L ECLAIRE     69225        1        1        1   \n",
       "\n",
       "      code_dep  population  \n",
       "17766    69240       636.0  \n",
       "17753    69236       584.0  \n",
       "17561    69174       625.0  \n",
       "17571    69095       832.0  \n",
       "17584    69252       746.0  \n",
       "17585    69172       819.0  \n",
       "17588    69012       637.0  \n",
       "17650    69039       692.0  \n",
       "17652    69229       804.0  \n",
       "17657    69060       730.0  \n",
       "17683    69184      1000.0  \n",
       "17722    69188       918.0  \n",
       "10340    42014       321.0  \n",
       "17868    69062       791.0  \n",
       "17881    69225       538.0  "
      ]
     },
     "execution_count": 38,
     "metadata": {},
     "output_type": "execute_result"
    }
   ],
   "source": [
    "find_best_communes('rhone', 1000, 'Orange', df_pop_reseau, df_client)"
   ]
  },
  {
   "cell_type": "markdown",
   "metadata": {},
   "source": [
    "### Conclusion\n",
    "\n",
    "On estime ici la qualité de la couverture réseau en comptant le nombre d'antennes dans chaque commune, c'est une approche simpliste, en réalité les signaux vont  transiter entre les communes. Pour améliorer notre approche, il serait plus adapté de construire une carte de la densité du nombre d'antennes au Km². **Toutefois c'est un bon début, il faut toujours commencer par une solution simple, l'évaluer, puis itérer vers une amélioration, plutôt que de réfléchir éternellement à la mise en place d'une solution parfaite.**\n",
    "\n",
    "*Premature optimisation is the root of all evil. Donald Knuth*"
   ]
  },
  {
   "cell_type": "markdown",
   "metadata": {},
   "source": [
    "### Pour aller plus loin\n",
    "\n",
    "Il est évident que Rmote doit exploiter d'autres indicateurs afin d'affiner la sélection de communes candidates, par exemple l'accès à la fibre optique, la présence d'une ou plusieurs salles de sport, des restaurants, etc. Pour aller plus loin, utilisez le [fichier suivant](https://www.data.gouv.fr/fr/datasets/data-insee-sur-les-communes/) qui regroupe divers indicateurs par commune. À terme, certaines informations ne seront plus accessibles en open data, il faudra alors faire appel à des API payantes ou du web scraping pour collecter directement à la source."
   ]
  }
 ],
 "metadata": {
  "kernelspec": {
   "display_name": "Python 3",
   "language": "python",
   "name": "python3"
  },
  "language_info": {
   "codemirror_mode": {
    "name": "ipython",
    "version": 3
   },
   "file_extension": ".py",
   "mimetype": "text/x-python",
   "name": "python",
   "nbconvert_exporter": "python",
   "pygments_lexer": "ipython3",
   "version": "3.9.7"
  }
 },
 "nbformat": 4,
 "nbformat_minor": 4
}
